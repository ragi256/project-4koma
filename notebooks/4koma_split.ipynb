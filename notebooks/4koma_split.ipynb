{
 "cells": [
  {
   "cell_type": "markdown",
   "metadata": {},
   "source": [
    "# コマ分割作業用notebook\n",
    "ここで試したものをスクリプト化したものが `split_frame.py`  \n",
    "このときはまだデータセットの構成が定まっていなかった\n",
    "\n",
    "\n",
    "# TODO\n",
    "\n",
    "- [x] newgame以外でも動かせるように汎用化する\n",
    "- [x] notebookからスクリプトに直す"
   ]
  },
  {
   "cell_type": "markdown",
   "metadata": {},
   "source": [
    "NEWGAMEからコマを抽出する  \n",
    "下記ブログを参考に  \n",
    "[4コマ漫画のコマを切り抜く](http://atarabi.hateblo.jp/entry/2015/12/13/232415)"
   ]
  },
  {
   "cell_type": "markdown",
   "metadata": {},
   "source": [
    "1. scansnapで裁断後のコミックスをスキャン\n",
    "2. pdfimagesコマンドでpdfの全ページをjpeg化\n",
    "3. openCVとpythonで4コマを判定・抽出"
   ]
  },
  {
   "cell_type": "code",
   "execution_count": 1,
   "metadata": {},
   "outputs": [],
   "source": [
    "# scansnapは2値化されないよう，グレースケールになるように指定しておく\n",
    "# 1冊取り込んだpdfに対してpdfimagesしてページ単位に分割する\n",
    "! pdfimages -j data/NEWGAME05_CONTENT.pdf data/newgame5/5\n",
    "\n",
    "# ImageMagickでもできるが結局ImageMagickはOS標準ではないし、IMに加えてgsが必要になる\n",
    "# なんでpdfimagesを選んだか忘れたが、 MacOSなら`brew install poppler`で入る"
   ]
  },
  {
   "cell_type": "code",
   "execution_count": 2,
   "metadata": {},
   "outputs": [],
   "source": [
    "import os\n",
    "import numpy as np\n",
    "from functools import cmp_to_key\n",
    "import matplotlib.pyplot as plt\n",
    "import cv2"
   ]
  },
  {
   "cell_type": "code",
   "execution_count": 3,
   "metadata": {},
   "outputs": [],
   "source": [
    "def apply_adaptive_threshold(image, radius=15, C=5):\n",
    "    gray = cv2.cvtColor(image, cv2.COLOR_BGR2GRAY)\n",
    "    #gray = cv2.GaussianBlur(gray, (15, 15), 0)\n",
    "    #return cv2.threshold(gray, 0, 255, cv2.THRESH_BINARY_INV+cv2.THRESH_OTSU)[1]\n",
    "    return cv2.adaptiveThreshold(gray, 255, cv2.ADAPTIVE_THRESH_GAUSSIAN_C, cv2.THRESH_BINARY_INV, 2 * radius + 1, C)"
   ]
  },
  {
   "cell_type": "code",
   "execution_count": 15,
   "metadata": {},
   "outputs": [],
   "source": [
    "def find_external_contours(thresh):\n",
    "    #contours, hierarchy = cv2.findContours(thresh, cv2.RETR_TREE, cv2.CHAIN_APPROX_SIMPLE)\n",
    "    _, contours, hierarchy = cv2.findContours(thresh, cv2.RETR_EXTERNAL, cv2.CHAIN_APPROX_SIMPLE)\n",
    "    external_num = hierarchy.shape[1] if hierarchy is not None else 0\n",
    "    return contours[0:external_num]\n",
    "    \n",
    "    contours = [c for c,h in zip(contours, hierarchy[0]) if h[3] > -1]\n",
    "    return [cnt for cnt in contours if cv2.contourArea(cnt) > 3000]"
   ]
  },
  {
   "cell_type": "code",
   "execution_count": 5,
   "metadata": {},
   "outputs": [],
   "source": [
    "def extract_rects_from_controus(contours, min_perimeter, max_perimeter):\n",
    "    frames = []\n",
    "    #for contour in contours:\n",
    "    #    x,y,w,h = cv2.boundingRect(contour)\n",
    "    #    frames.append(((x+w/2, y+h/2), (w+2, h+2), 0))\n",
    "    #return frames\n",
    "        \n",
    "    for contour in contours:        \n",
    "        frame = cv2.minAreaRect(contour)\n",
    "        center, size, angle = frame\n",
    "        # 縦・横が逆になっている場合、90度回転させる\n",
    "        if angle < -45:\n",
    "            size = tuple(reversed(size))\n",
    "            angle = angle + 90\n",
    "        w, h = size\n",
    "        perimeter = 2 * (w + h)\n",
    "        if min_perimeter < perimeter < max_perimeter and abs(angle) < 3.0 and 0.1 <= min(w, h) / max(w, h) <= 1.0:\n",
    "            frames.append((center, (w + 2, h + 2), angle))  # パディングを加える\n",
    "    return frames"
   ]
  },
  {
   "cell_type": "code",
   "execution_count": 6,
   "metadata": {},
   "outputs": [],
   "source": [
    "def cmp_frame(tolerance):\n",
    "    def _cmp(lhs, rhs):\n",
    "        return (lhs > rhs) - (lhs < rhs)\n",
    "\n",
    "    def _cmp_frame(lhs, rhs):\n",
    "        if lhs[0] == rhs[0]:\n",
    "            return 0\n",
    "        x1, y1 = lhs[0]\n",
    "        x2, y2 = rhs[0]\n",
    "        if abs(x1 - x2) < tolerance:\n",
    "            return _cmp(y1, y2)\n",
    "        else:\n",
    "            return _cmp(x2, x1)\n",
    "\n",
    "    return _cmp_frame"
   ]
  },
  {
   "cell_type": "code",
   "execution_count": 19,
   "metadata": {},
   "outputs": [],
   "source": [
    "def cut_frame(image, rect):\n",
    "    center, size, angle = rect\n",
    "    size = int(np.round(size[0])), int(np.round(size[1]))\n",
    "    box = cv2.boxPoints(rect)\n",
    "    M = cv2.getAffineTransform(np.float32(box[1:4]),  np.float32([[0, 0], [size[0], 0], [size[0], size[1]]]))\n",
    "    return cv2.warpAffine(image, M, size)"
   ]
  },
  {
   "cell_type": "code",
   "execution_count": 8,
   "metadata": {},
   "outputs": [],
   "source": [
    "def cut_frames(image):\n",
    "    height, width, ch = image.shape \n",
    "    \n",
    "    # 二値化\n",
    "    thresh = apply_adaptive_threshold(image)\n",
    "\n",
    "    ### add\n",
    "    #lines = cv2.HoughLinesP(image = thresh, rho=0.1, theta = np.pi/180, \n",
    "    #                                            threshold = 100, minLineLength = 255, maxLineGap = 1)\n",
    "    #num_pix_threshold = 500 # minimum number of pixels that must be on a line\n",
    "    #lines = cv2.HoughLinesP(thresh, 1, np.pi/180, num_pix_threshold, minLineLength=300, maxLineGap=3)\n",
    "\n",
    "    #line_image = np.zeros((height, width), dtype=np.uint8)\n",
    "    #line_image.fill(255)\n",
    "    #contours = []\n",
    "    #if not lines is None:\n",
    "    #    for x1,y1,x2,y2 in lines[0]:\n",
    "    #        cv2.line(line_image, (x1,y1), (x2,y2), (0,0,0), 3)\n",
    "    #    contours = find_external_contours(line_image)\n",
    "    ### add\n",
    "    \n",
    "    # 一番外側の輪郭wだけを抽出\n",
    "    contours = find_external_contours(thresh)\n",
    "\n",
    "    # 抽出した輪郭からコマの四角形だけを取り出す\n",
    "    min_perimeter, max_perimeter = (width + height) * 0.25,  (width + height) * 1.5\n",
    "    rects = extract_rects_from_controus(contours, min_perimeter, max_perimeter)\n",
    "    #f1 = lambda x: 150000 < x[1][0] * x[1][1] < 160000\n",
    "    #f2 = lambda x: 600000 < x[1][0] * x[1][1] < 640000    \n",
    "    #rects = filter(lambda x: f1(x) or f2(x), rects)\n",
    "\n",
    "    # 抽出した四角形をソートする\n",
    "    tolerance = width / 3 if width < height else width / 6\n",
    "    rects = sorted(rects, key=cmp_to_key(cmp_frame(tolerance)))\n",
    "    # コマの部分の画像を切り出す\n",
    "    frames = []\n",
    "    for rect in rects:\n",
    "        frame = cut_frame(image, rect)\n",
    "        frames.append(frame)\n",
    "    return frames"
   ]
  },
  {
   "cell_type": "code",
   "execution_count": 48,
   "metadata": {},
   "outputs": [],
   "source": [
    "def main():\n",
    "    for root, dirs, files in os.walk(SRC_DIR):\n",
    "        rel_path = os.path.relpath(root, SRC_DIR)\n",
    "        dst_dir = os.path.join(DST_DIR, rel_path)\n",
    "        print(rel_path, dst_dir)\n",
    "        if not os.path.exists(dst_dir):\n",
    "            os.mkdir('dst', dst_dir)\n",
    "        for i, file in enumerate(files):\n",
    "            if file.startswith('.'):\n",
    "                continue\n",
    "            name, ext = os.path.splitext(file)\n",
    "            page_num = name.split('-')[1]\n",
    "            page_dir = os.path.join(dst_dir, page_num)\n",
    "            if not os.path.exists(page_dir):\n",
    "                os.mkdir(page_dir)\n",
    "            if ext.lower() not in {'.jpg', '.png'}:\n",
    "                continue\n",
    "            file_path = os.path.join(root, file)\n",
    "            image = cv2.imread(file_path)\n",
    "            frames = cut_frames(image)\n",
    "            for i, frame in enumerate(frames):\n",
    "                dst_path = os.path.join(page_dir, str(i + 1) + ext)\n",
    "                cv2.imwrite(dst_path, frame)"
   ]
  },
  {
   "cell_type": "code",
   "execution_count": 49,
   "metadata": {
    "scrolled": false
   },
   "outputs": [
    {
     "name": "stdout",
     "output_type": "stream",
     "text": [
      ". output/newgame5_new/.\n"
     ]
    }
   ],
   "source": [
    "SRC_DIR = \"data/newgame5\"\n",
    "DST_DIR = \"output/newgame5_new\"\n",
    "main()"
   ]
  },
  {
   "cell_type": "markdown",
   "metadata": {},
   "source": [
    "---\n",
    "# 大コマを切り抜く作業用\n",
    "が、結局手動でやったほうがはやいということになったので諦めた  \n",
    "大体が1ページに8コマあるはずなので、8コマないページを特定して見に行って手で切り抜いたほうがいい"
   ]
  },
  {
   "cell_type": "code",
   "execution_count": 28,
   "metadata": {},
   "outputs": [
    {
     "data": {
      "text/plain": [
       "[9, 17, 25, 33, 41, 49, 57, 65, 73, 81, 91, 99, 109, 117]"
      ]
     },
     "execution_count": 28,
     "metadata": {},
     "output_type": "execute_result"
    }
   ],
   "source": [
    "large_koma = list(range(9,89, 8)) + [91, 99, 109,117]\n",
    "large_koma"
   ]
  },
  {
   "cell_type": "code",
   "execution_count": null,
   "metadata": {
    "scrolled": false
   },
   "outputs": [],
   "source": [
    "%matplotlib inline\n",
    "\n",
    "large_koma = list(range(9,89, 8)) + [91, 99, 109,117]\n",
    "koma = large_koma[1]\n",
    "\n",
    "image = cv2.imread(\"data/newgame4/4-{0:04d}.jpg\".format(koma))\n",
    "plt.imshow(image)\n",
    "\n",
    "\n",
    "thresh = apply_adaptive_threshold(image, radius=5)\n",
    "cv2.imwrite(\"output/image-thresh.jpg\", thresh)\n",
    "plt.imshow(thresh)\n",
    "frames = cut_frames(image)\n",
    "print(len(frames))\n",
    "plt.imshow(frames[0])\n"
   ]
  },
  {
   "cell_type": "code",
   "execution_count": 34,
   "metadata": {},
   "outputs": [
    {
     "data": {
      "text/plain": [
       "[9, 17, 25, 33, 41, 49, 57, 65, 73, 81, 91, 99, 109, 117]"
      ]
     },
     "execution_count": 34,
     "metadata": {},
     "output_type": "execute_result"
    }
   ],
   "source": [
    "large_koma"
   ]
  },
  {
   "cell_type": "code",
   "execution_count": 62,
   "metadata": {
    "scrolled": false
   },
   "outputs": [
    {
     "ename": "NameError",
     "evalue": "name 'width' is not defined",
     "output_type": "error",
     "traceback": [
      "\u001b[0;31m---------------------------------------------------------------------------\u001b[0m",
      "\u001b[0;31mNameError\u001b[0m                                 Traceback (most recent call last)",
      "\u001b[0;32m<ipython-input-62-08959755f083>\u001b[0m in \u001b[0;36m<module>\u001b[0;34m()\u001b[0m\n\u001b[1;32m     38\u001b[0m \u001b[0;34m\u001b[0m\u001b[0m\n\u001b[1;32m     39\u001b[0m     \u001b[0;31m#print len(contours),\u001b[0m\u001b[0;34m\u001b[0m\u001b[0;34m\u001b[0m\u001b[0m\n\u001b[0;32m---> 40\u001b[0;31m     \u001b[0mmin_perimeter\u001b[0m\u001b[0;34m,\u001b[0m \u001b[0mmax_perimeter\u001b[0m \u001b[0;34m=\u001b[0m \u001b[0;34m(\u001b[0m\u001b[0mwidth\u001b[0m \u001b[0;34m+\u001b[0m \u001b[0mheight\u001b[0m\u001b[0;34m)\u001b[0m \u001b[0;34m*\u001b[0m \u001b[0;36m0.25\u001b[0m\u001b[0;34m,\u001b[0m  \u001b[0;34m(\u001b[0m\u001b[0mwidth\u001b[0m \u001b[0;34m+\u001b[0m \u001b[0mheight\u001b[0m\u001b[0;34m)\u001b[0m \u001b[0;34m*\u001b[0m \u001b[0;36m1.5\u001b[0m\u001b[0;34m\u001b[0m\u001b[0m\n\u001b[0m\u001b[1;32m     41\u001b[0m     \u001b[0mrects\u001b[0m \u001b[0;34m=\u001b[0m \u001b[0mextract_rects_from_controus\u001b[0m\u001b[0;34m(\u001b[0m\u001b[0mcontours\u001b[0m\u001b[0;34m,\u001b[0m \u001b[0mmin_perimeter\u001b[0m\u001b[0;34m,\u001b[0m \u001b[0mmax_perimeter\u001b[0m\u001b[0;34m)\u001b[0m\u001b[0;34m\u001b[0m\u001b[0m\n\u001b[1;32m     42\u001b[0m     \u001b[0mf1\u001b[0m \u001b[0;34m=\u001b[0m \u001b[0;32mlambda\u001b[0m \u001b[0mx\u001b[0m\u001b[0;34m:\u001b[0m \u001b[0;36m150000\u001b[0m \u001b[0;34m<\u001b[0m \u001b[0mx\u001b[0m\u001b[0;34m[\u001b[0m\u001b[0;36m1\u001b[0m\u001b[0;34m]\u001b[0m\u001b[0;34m[\u001b[0m\u001b[0;36m0\u001b[0m\u001b[0;34m]\u001b[0m \u001b[0;34m*\u001b[0m \u001b[0mx\u001b[0m\u001b[0;34m[\u001b[0m\u001b[0;36m1\u001b[0m\u001b[0;34m]\u001b[0m\u001b[0;34m[\u001b[0m\u001b[0;36m1\u001b[0m\u001b[0;34m]\u001b[0m \u001b[0;34m<\u001b[0m \u001b[0;36m160000\u001b[0m\u001b[0;34m\u001b[0m\u001b[0m\n",
      "\u001b[0;31mNameError\u001b[0m: name 'width' is not defined"
     ]
    }
   ],
   "source": [
    "%matplotlib inline\n",
    "large_koma = list(range(9,89, 8)) + [91, 99, 109,117]\n",
    "for koma in large_koma:\n",
    "    image = cv2.imread(\"data/newgame4/4-{0:04d}.jpg\".format(koma))\n",
    "    thresh = apply_adaptive_threshold(image)\n",
    "    cv2.imwrite(\"output/image-thresh-{}.jpg\".format(koma), thresh)\n",
    "\n",
    "    lines = cv2.HoughLines(image = thresh, rho=0.01, theta=np.pi/180, threshold=100)\n",
    "    #lines = cv2.HoughLinesP(image = thresh, rho=0.1, theta = np.pi/180, \n",
    "    #                                           threshold = 100, minLineLength = 255, maxLineGap = 1)\n",
    "\n",
    "    image_lines = np.copy(image)\n",
    "    image_line_contour = np.ones(image.shape[0:2], dtype=np.uint8)\n",
    "    image_line_contour.fill(255)\n",
    "    \n",
    "    for rho,theta in lines[0]:\n",
    "        a, b = np.cos(theta), np.sin(theta)\n",
    "        x0, y0 = a*rho, b*rho\n",
    "        x1, y1 = int(x0 + 1000*(-b)), int(y0 + 1000*(a))\n",
    "        x2, y2 = int(x0 - 1000*(-b)), int(y0 - 1000*(a))\n",
    "        #cv2.line(image_lines,(x1,y1),(x2,y2),(0, 255, 0), 1)\n",
    "        cv2.line(image_line_contour, (x1,y1), (x2,y2), (0, 0,0), 2)\n",
    "\n",
    "    #for x1,y1,x2,y2 in lines[0]:\n",
    "    #    #cv2.line(image_lines,(x1, y1), (x2, y2), (0, 255, 0), 3)        \n",
    "    #    cv2.line(image_line_contour, (x1,y1), (x2,y2), (0, 0,0), 3)\n",
    "    \n",
    "    ##cv2.imwrite('output/{}-plines.jpg'.format(koma), image_lines)\n",
    "    #cv2.imwrite('output/{}-plines.jpg'.format(koma), image_line_contour)\n",
    "    \n",
    "    _, contours, hierarchy = cv2.findContours(image_line_contour, cv2.RETR_TREE, cv2.CHAIN_APPROX_SIMPLE)\n",
    "    image_contours = np.copy(image)\n",
    "    cv2.drawContours(image_contours,contours,-1,(0,255,0),3)\n",
    "    cv2.imwrite('output/{}-contours.jpg'.format(koma), image_contours)\n",
    "    #print len(contours),\n",
    "\n",
    "    #continue\n",
    "    \n",
    "    #print len(contours),\n",
    "    min_perimeter, max_perimeter = (width + height) * 0.25,  (width + height) * 1.5\n",
    "    rects = extract_rects_from_controus(contours, min_perimeter, max_perimeter)\n",
    "    f1 = lambda x: 150000 < x[1][0] * x[1][1] < 160000\n",
    "    f2 = lambda x: 600000 < x[1][0] * x[1][1] < 640000    \n",
    "    rects = filter(lambda x: f1(x) or f2(x), rects)\n",
    "    \n",
    "    # 抽出した四角形をソートする\n",
    "    tolerance = width / 3 if width < height else width / 6\n",
    "    rects = sorted(rects, key=cmp_to_key(cmp_frame(tolerance)))\n",
    "    #print len(rects)\n",
    "    # コマの部分の画像を切り出す\n",
    "    frames = []\n",
    "    for rect in rects:\n",
    "        frame = cut_frame(image, rect)\n",
    "        frames.append(frame)\n",
    "\n",
    "    for i, frame in enumerate(frames):\n",
    "        cv2.imwrite('temp/{}-{}-frame.jpg'.format(koma,i), frame)\n",
    "\n",
    "plt.imshow(image_lines)"
   ]
  }
 ],
 "metadata": {
  "kernelspec": {
   "display_name": "Python 3",
   "language": "python",
   "name": "python3"
  },
  "language_info": {
   "codemirror_mode": {
    "name": "ipython",
    "version": 3
   },
   "file_extension": ".py",
   "mimetype": "text/x-python",
   "name": "python",
   "nbconvert_exporter": "python",
   "pygments_lexer": "ipython3",
   "version": "3.6.0"
  }
 },
 "nbformat": 4,
 "nbformat_minor": 1
}
