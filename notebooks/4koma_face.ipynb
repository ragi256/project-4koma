{
 "cells": [
  {
   "cell_type": "markdown",
   "metadata": {},
   "source": [
    "# 顔抽出作業notebook\n",
    "ここで試したものをスクリプト化したものが `extract_face.py`  \n",
    "このときはまだデータセットの構成が定まっていなかった\n",
    "\n",
    "ページ単位での顔抽出とコマ単位での顔抽出を試したけど、結局コマ単位でやることにした\n",
    "\n",
    "# TODO\n",
    "\n",
    "- [x] newgame以外でも動かせるように汎用化する\n",
    "- [x] notebookからスクリプトに直す"
   ]
  },
  {
   "cell_type": "code",
   "execution_count": 1,
   "metadata": {
    "scrolled": true
   },
   "outputs": [
    {
     "name": "stdout",
     "output_type": "stream",
     "text": [
      "--2018-04-16 23:39:23--  https://raw.githubusercontent.com/nagadomi/lbpcascade_animeface/master/lbpcascade_animeface.xml\n",
      "raw.githubusercontent.com (raw.githubusercontent.com) をDNSに問いあわせています... 151.101.72.133\n",
      "raw.githubusercontent.com (raw.githubusercontent.com)|151.101.72.133|:443 に接続しています... 接続しました。\n",
      "HTTP による接続要求を送信しました、応答を待っています... 200 OK\n",
      "長さ: 59157 (58K) [text/plain]\n",
      "`lbpcascade_animeface.xml' に保存中\n",
      "\n",
      "lbpcascade_animefac 100%[===================>]  57.77K  --.-KB/s 時間 0.02s      \n",
      "\n",
      "2018-04-16 23:39:23 (2.60 MB/s) - `lbpcascade_animeface.xml' へ保存完了 [59157/59157]\n",
      "\n"
     ]
    }
   ],
   "source": [
    "# https://github.com/nagadomi/lbpcascade_animeface\n",
    "!wget https://raw.githubusercontent.com/nagadomi/lbpcascade_animeface/master/lbpcascade_animeface.xml"
   ]
  },
  {
   "cell_type": "code",
   "execution_count": 2,
   "metadata": {},
   "outputs": [],
   "source": [
    "import cv2\n",
    "# in: original image\n",
    "# out: detect image\n",
    "def detect(image, cascade_file = \"lbpcascade_animeface.xml\"):\n",
    "    cascade = cv2.CascadeClassifier(cascade_file)\n",
    "    gray = cv2.cvtColor(image, cv2.COLOR_BGR2GRAY)\n",
    "    gray = cv2.equalizeHist(gray)\n",
    "    faces = cascade.detectMultiScale(gray,\n",
    "                                     # detector options\n",
    "                                     scaleFactor = 1.1,\n",
    "                                     minNeighbors = 5,\n",
    "                                     minSize = (24, 24))\n",
    "    for (x, y, w, h) in faces:\n",
    "        cv2.rectangle(image, (x, y), (x + w, y + h), (0, 0, 255), 2)\n",
    "    #img = cv2.cvtColor(image, cv2.COLOR_BGR2RGB)  # debug\n",
    "    #plt.imshow(img)                                                            # debug\n",
    "    #cv2.imwrite(\"out.png\", image)\n",
    "    return image"
   ]
  },
  {
   "cell_type": "code",
   "execution_count": null,
   "metadata": {},
   "outputs": [],
   "source": [
    "# page単位認識\n",
    "input_base = '/Users/ragi/workspace/4koma_project/4koma/newgame/original/'\n",
    "output_base = '/Users/ragi/workspace/4koma_project/4koma/newgame/face/'\n",
    "\n",
    "last_page = [None, 117, 118, 117, 117, 118]\n",
    "\n",
    "for comic_num in range(1, 5+1):\n",
    "    comic_path = os.path.join(input_base, f'newgame{comic_num}/')\n",
    "    for page_file in os.listdir(comic_path):\n",
    "        if not page_file[0].isdigit():\n",
    "            continue\n",
    "        input_path = os.path.join(comic_path, page_file)\n",
    "        image = cv2.imread(input_path, cv2.IMREAD_COLOR)\n",
    "        detect_image = detect(image)\n",
    "        output_path = os.path.join(output_base, f'newgame{comic_num}', page_file)\n",
    "        cv2.imwrite(output_path, image)"
   ]
  },
  {
   "cell_type": "code",
   "execution_count": null,
   "metadata": {},
   "outputs": [],
   "source": [
    "# コマ単位認識\n",
    "input_base = '/Users/ragi/workspace/4koma_project/4koma/newgame/frame/'\n",
    "output_base = '/Users/ragi/workspace/4koma_project/4koma/newgame/face/'\n",
    "\n",
    "for comic_num in range(1, 5+1):\n",
    "    comic_path = os.path.join(input_base, f'newgame{comic_num}/')\n",
    "    for page_num in os.listdir(comic_path):\n",
    "        if not page_num.isdigit():\n",
    "            continue\n",
    "        page_path = os.path.join(comic_path, page_num)\n",
    "        for frame_file in os.listdir(page_path):\n",
    "            frame_path = os.path.join(page_path, frame_file)\n",
    "            image = cv2.imread(frame_path, cv2.IMREAD_COLOR)\n",
    "            detect_image = detect(image)\n",
    "            output_dir = os.path.join(output_base, f'frame_face_newgame{comic_num}', page_num)\n",
    "            os.makedirs(output_dir, exist_ok=True)\n",
    "            output_path = os.path.join(output_dir, frame_file)\n",
    "            cv2.imwrite(output_path, image)"
   ]
  },
  {
   "cell_type": "code",
   "execution_count": null,
   "metadata": {},
   "outputs": [],
   "source": [
    "# 顔抽出\n",
    "input_base = '/Users/ragi/workspace/notebooks/output'\n",
    "output_base = '/Users/ragi/workspace/notebooks/output/'\n",
    "cascade = cv2.CascadeClassifier('lbpcascade_animeface.xml')\n",
    "\n",
    "for comic_num in range(1, 5+1):\n",
    "    face_id = 0\n",
    "    comic_path = os.path.join(input_base, f'newgame{comic_num}/')\n",
    "    output_dir = os.path.join(output_base, f'face_newgame{comic_num}/')\n",
    "    for page_num in os.listdir(comic_path):\n",
    "        if not page_num.isdigit():\n",
    "            continue\n",
    "        page_path = os.path.join(comic_path, page_num)\n",
    "        for frame_file in os.listdir(page_path):\n",
    "            frame_path = os.path.join(page_path, frame_file)\n",
    "            image = cv2.imread(frame_path, cv2.IMREAD_COLOR)\n",
    "\n",
    "            gray = cv2.cvtColor(image, cv2.COLOR_BGR2GRAY)\n",
    "            gray = cv2.equalizeHist(gray)\n",
    "            faces = cascade.detectMultiScale(gray,\n",
    "                                             # detector options\n",
    "                                             scaleFactor = 1.1,\n",
    "                                             minNeighbors = 5,\n",
    "                                             minSize = (24, 24))\n",
    "            for (x, y, w, h) in faces:\n",
    "                face_image = image[y:y+h, x:x+w]\n",
    "                output_path = os.path.join(output_dir, f'{face_id}.jpg')\n",
    "                cv2.imwrite(output_path, face_image)\n",
    "                face_id += 1"
   ]
  }
 ],
 "metadata": {
  "kernelspec": {
   "display_name": "Python 3",
   "language": "python",
   "name": "python3"
  },
  "language_info": {
   "codemirror_mode": {
    "name": "ipython",
    "version": 3
   },
   "file_extension": ".py",
   "mimetype": "text/x-python",
   "name": "python",
   "nbconvert_exporter": "python",
   "pygments_lexer": "ipython3",
   "version": "3.6.0"
  }
 },
 "nbformat": 4,
 "nbformat_minor": 2
}
